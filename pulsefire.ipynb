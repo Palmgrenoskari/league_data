{
 "cells": [
  {
   "cell_type": "code",
   "execution_count": 35,
   "metadata": {},
   "outputs": [],
   "source": [
    "# Imports\n",
    "import os\n",
    "from dotenv import load_dotenv\n",
    "from pulsefire.clients import RiotAPIClient\n",
    "from time import sleep\n",
    "import sqlite3\n",
    "from tqdm import tqdm\n",
    "\n",
    "\n",
    "# Read .env and get RIOT API KEY\n",
    "load_dotenv()\n",
    "API_KEY = os.getenv(\"RIOT_API_KEY\")\n",
    "\n",
    "# SQLite\n",
    "con = sqlite3.connect(\"league.db\")\n",
    "cur = con.cursor()\n"
   ]
  },
  {
   "cell_type": "code",
   "execution_count": 36,
   "metadata": {},
   "outputs": [],
   "source": [
    "async def get_account_data(client, entries, league=\"challenger\"):\n",
    "  \"\"\"\n",
    "    Sleep commands are there to avoid hitting the rate limit\n",
    "    Current rate limit: 100 requests every 2 minutes\n",
    "    Hence the sleep(1.5) -> ~80 requests every 2 minutes\n",
    "  \"\"\"\n",
    "  entry_id = 0 # running index\n",
    "  accounts = [] # list of accounts\n",
    "  pbar = tqdm(total=len(entries[\"entries\"]), desc=\"Getting account data\")\n",
    "  while entry_id < len(entries[\"entries\"]):\n",
    "    try:\n",
    "      entry = entries[\"entries\"][entry_id]\n",
    "      sleep(1.5)\n",
    "      account = await client.get_account_v1_by_puuid(region=\"europe\", puuid=entry['puuid'])\n",
    "      \n",
    "      # Create account dictionary\n",
    "      account_data = {\n",
    "        'player_id': entry['puuid'],\n",
    "        'summoner_id': entry['summonerId'],\n",
    "        'game_name': account['gameName'],\n",
    "        'tag_line': account['tagLine'],\n",
    "        'league': league,\n",
    "        'rank': entry_id + 1,\n",
    "        'LP': entry['leaguePoints'],\n",
    "        'wins': entry['wins'],\n",
    "        'losses': entry['losses'],\n",
    "      }\n",
    "      accounts.append(account_data)\n",
    "      entry_id += 1\n",
    "      pbar.update(1)\n",
    "    except Exception as e:\n",
    "      print(\"--------------ERROR--------------\")\n",
    "      print(\"Error in the loop:\")\n",
    "      print(e)\n",
    "      print(\"--------------ERROR--------------\")\n",
    "      sleep(10)\n",
    "\n",
    "  return accounts  "
   ]
  },
  {
   "cell_type": "code",
   "execution_count": 37,
   "metadata": {},
   "outputs": [],
   "source": [
    "def insert_into_leaderboards(accounts, cur, con):\n",
    "  for account in accounts:\n",
    "    cur.execute(\"INSERT INTO leaderboards(player_id, summoner_id, game_name, tag_line, league, rank, league_points, wins, losses) VALUES (?, ?, ?, ?, ?, ?, ?, ?, ?)\",\n",
    "                (account['player_id'], account['summoner_id'], account['game_name'], account['tag_line'], account['league'], account['rank'], account['LP'], account['wins'], account['losses']))\n",
    "  con.commit()"
   ]
  },
  {
   "cell_type": "code",
   "execution_count": 38,
   "metadata": {},
   "outputs": [
    {
     "name": "stdout",
     "output_type": "stream",
     "text": [
      "Num of challenger players: 300\n",
      "---------------------------------\n"
     ]
    },
    {
     "name": "stderr",
     "output_type": "stream",
     "text": [
      "Getting account data: 100%|██████████| 300/300 [08:04<00:00,  1.62s/it]\n"
     ]
    }
   ],
   "source": [
    "# Challengers (300 people)\n",
    "async with RiotAPIClient(default_headers={\"X-Riot-Token\": API_KEY}) as client:\n",
    "  try:\n",
    "    challengers = await client.get_lol_league_v4_challenger_league_by_queue(region=\"euw1\", queue=\"RANKED_SOLO_5x5\")\n",
    "    print(f\"Num of challenger players: {len(challengers['entries'])}\")\n",
    "    print(\"---------------------------------\")\n",
    "  except Exception as e:\n",
    "    print(\"Cannot get league data\")\n",
    "    print(e)\n",
    "    \n",
    "  c_accounts = await get_account_data(client, challengers, league=\"challenger\")\n"
   ]
  },
  {
   "cell_type": "code",
   "execution_count": 40,
   "metadata": {},
   "outputs": [
    {
     "name": "stdout",
     "output_type": "stream",
     "text": [
      "Num of grandmaster players: 700\n",
      "---------------------------------\n"
     ]
    },
    {
     "name": "stderr",
     "output_type": "stream",
     "text": [
      "Getting account data: 100%|██████████| 700/700 [18:57<00:00,  1.63s/it]\n"
     ]
    }
   ],
   "source": [
    "# Grandmasters (700 people)\n",
    "async with RiotAPIClient(default_headers={\"X-Riot-Token\": API_KEY}) as client:\n",
    "  try:\n",
    "    grandmasters = await client.get_lol_league_v4_grandmaster_league_by_queue(region=\"euw1\", queue=\"RANKED_SOLO_5x5\")\n",
    "    print(f\"Num of grandmaster players: {len(grandmasters['entries'])}\")\n",
    "    print(\"---------------------------------\")\n",
    "  except Exception as e:\n",
    "    print(\"Cannot get league data\")\n",
    "    print(e)\n",
    "  \n",
    "  gm_accounts = await get_account_data(client, grandmasters, league=\"grandmaster\")"
   ]
  },
  {
   "cell_type": "code",
   "execution_count": 39,
   "metadata": {},
   "outputs": [],
   "source": [
    "# Insert challengers into leaderboards\n",
    "insert_into_leaderboards(c_accounts, cur, con)"
   ]
  },
  {
   "cell_type": "code",
   "execution_count": 41,
   "metadata": {},
   "outputs": [],
   "source": [
    "# Insert grandmasters into leaderboards\n",
    "insert_into_leaderboards(gm_accounts, cur, con)\n"
   ]
  },
  {
   "cell_type": "code",
   "execution_count": 42,
   "metadata": {},
   "outputs": [],
   "source": [
    "con.close()"
   ]
  }
 ],
 "metadata": {
  "kernelspec": {
   "display_name": "Python 3",
   "language": "python",
   "name": "python3"
  },
  "language_info": {
   "codemirror_mode": {
    "name": "ipython",
    "version": 3
   },
   "file_extension": ".py",
   "mimetype": "text/x-python",
   "name": "python",
   "nbconvert_exporter": "python",
   "pygments_lexer": "ipython3",
   "version": "3.13.2"
  }
 },
 "nbformat": 4,
 "nbformat_minor": 2
}
